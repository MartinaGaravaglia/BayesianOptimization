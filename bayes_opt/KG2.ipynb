{
 "cells": [
  {
   "cell_type": "code",
   "execution_count": null,
   "id": "baec6b20",
   "metadata": {},
   "outputs": [],
   "source": [
    "# ALGORITMO 2 DEL KG \n",
    "\n",
    "def _kg2(x, optimizer, gp, y_max):\n",
    "        def posterior(gp, x_obs, y_obs, grid):\n",
    "            gp.fit(x_obs, y_obs)\n",
    "            mu, sigma = gp.predict(grid, return_std=True)\n",
    "            return mu\n",
    "\n",
    "        #print(optimizer.res)\n",
    "        list_diff = []\n",
    "        x_obs = np.array([[res[\"params\"][\"x\"]] for res in optimizer.res])\n",
    "        y_obs = np.array([res[\"target\"] for res in optimizer.res])\n",
    "        # print(x_obs)\n",
    "        \n",
    "        \n",
    "        init = [np.zeros(1000)]*2\n",
    "        n = optimizer._space.bounds.shape[0]\n",
    "        \n",
    "        # DUE DIMENSIONI\n",
    "        if (n > 1):\n",
    "            for(i in range(2)): \n",
    "                init[i] = np.linspace(optimizer._space.bounds[i,0], optimizer._space.bounds[i,1], 1000)\n",
    "            \n",
    "            grid = np.meshgrid(init[0], init[1])   \n",
    "            grid = np.array(grid)\n",
    "            grid = grid.reshape(-1,2)\n",
    "            \n",
    "            J = 10 \n",
    "\n",
    "            for j in range(J):\n",
    "                mean_n1star=np.zeros(len(x))\n",
    "                diff=np.zeros(len(x))\n",
    "                ii=0\n",
    "                print(j+1) # number of iteration\n",
    "                for i in x:\n",
    "                    with warnings.catch_warnings():\n",
    "                        warnings.simplefilter(\"ignore\")\n",
    "                        # otteniamo la current mean e std per samplare il nuovo y\n",
    "                        mean, std= gp.predict(i, return_std=True)\n",
    "                        # sample il nuovo y\n",
    "                        y=random.normal(loc=mean, scale=std)\n",
    "                        # aggiungi la coppia (i, y) ai vettori del GP\n",
    "                        x_newobs=np.append(x_obs, i)\n",
    "                        y_newobs=np.append(y_obs,y).reshape(-1,1)\n",
    "                        # re-fittiamo il gaussian process e calcoliamo il massimo valore della nuova media\n",
    "                        mu=posterior(gp, x_newobs, y_newobs, grid)\n",
    "                        mean_n1star[ii]= max(mu)\n",
    "                        #con minimize è troppo lento\n",
    "                        #mean_n1star[ii] = minimize(lambda t: -posterior(optimizer, x_newobs, y_newobs, t.reshape(-1,1))[0],\n",
    "                                                   #init.reshape(-1, 1),\n",
    "                                                   #method=\"L-BFGS-B\")['fun']\n",
    "                        # diff è un vettore di lunghezza uguale alla lunghezza di x\n",
    "                        diff[ii] = (mean_n1star[ii]-mean_nstar)\n",
    "                        ii=ii+1\n",
    "                # a è una lista di vettori\n",
    "                list_diff.append(diff)\n",
    "\n",
    "            # calcoliamo la MCMC stima per ciascuna componente    \n",
    "            sum_list_diff=0 \n",
    "            for array in list_diff:\n",
    "                sum_list_diff += array\n",
    "\n",
    "            out = sum_list_diff/J\n",
    "            print(len(out))\n",
    "            return(out)\n",
    "        \n",
    "        \n",
    "        \n",
    "        # In una dimensione (codice che avevamo già scritto)\n",
    "        else:\n",
    "            grid = np.linspace(min(x), max(x), 1000)\n",
    "            grid = grid.reshape(-1,1)\n",
    "            mean_nstar = max(posterior(gp, x_obs, y_obs, grid))\n",
    "            #print(mean_nstar['fun'])\n",
    "            J = 10 \n",
    "\n",
    "            for j in range(J):\n",
    "                mean_n1star=np.zeros(len(x))\n",
    "                diff=np.zeros(len(x))\n",
    "                ii=0\n",
    "                print(j+1) # number of iteration\n",
    "                for i in x:\n",
    "                    with warnings.catch_warnings():\n",
    "                        warnings.simplefilter(\"ignore\")\n",
    "                        # otteniamo la current mean e std per samplare il nuovo y\n",
    "                        mean, std= gp.predict(i.reshape(1,-1), return_std=True)\n",
    "                        # sample il nuovo y\n",
    "                        y=random.normal(loc=mean, scale=std)\n",
    "                        # aggiungi la coppia (i, y) ai vettori del GP\n",
    "                        x_newobs=np.append(x_obs, i).reshape(-1,1)\n",
    "                        y_newobs=np.append(y_obs,y).reshape(-1,1)\n",
    "                        # re-fittiamo il gaussian process e calcoliamo il massimo valore della nuova media\n",
    "                        mu=posterior(gp, x_newobs, y_newobs, grid)\n",
    "                        mean_n1star[ii]= max(mu)\n",
    "                        #con minimize è troppo lento\n",
    "                        #mean_n1star[ii] = minimize(lambda t: -posterior(optimizer, x_newobs, y_newobs, t.reshape(-1,1))[0],\n",
    "                                                   #init.reshape(-1, 1),\n",
    "                                                   #method=\"L-BFGS-B\")['fun']\n",
    "                        # diff è un vettore di lunghezza uguale alla lunghezza di x\n",
    "                        diff[ii] = (mean_n1star[ii]-mean_nstar)\n",
    "                        ii=ii+1\n",
    "                # a è una lista di vettori\n",
    "                list_diff.append(diff)\n",
    "\n",
    "            # calcoliamo la MCMC stima per ciascuna componente    \n",
    "            sum_list_diff=0 \n",
    "            for array in list_diff:\n",
    "                sum_list_diff += array\n",
    "\n",
    "            out = sum_list_diff/J\n",
    "            print(len(out))\n",
    "            return(out)\n",
    "\n",
    "        \n",
    "        "
   ]
  },
  {
   "cell_type": "code",
   "execution_count": 19,
   "id": "e062732d",
   "metadata": {},
   "outputs": [],
   "source": [
    "import numpy as np\n",
    "X,Y = np.mgrid[-5:5.1, -5:5.1]"
   ]
  },
  {
   "cell_type": "code",
   "execution_count": 21,
   "id": "087f09a9",
   "metadata": {},
   "outputs": [
    {
     "name": "stdout",
     "output_type": "stream",
     "text": [
      "[[-5. -5. -5. -5. -5. -5. -5. -5. -5. -5. -5.]\n",
      " [-4. -4. -4. -4. -4. -4. -4. -4. -4. -4. -4.]\n",
      " [-3. -3. -3. -3. -3. -3. -3. -3. -3. -3. -3.]\n",
      " [-2. -2. -2. -2. -2. -2. -2. -2. -2. -2. -2.]\n",
      " [-1. -1. -1. -1. -1. -1. -1. -1. -1. -1. -1.]\n",
      " [ 0.  0.  0.  0.  0.  0.  0.  0.  0.  0.  0.]\n",
      " [ 1.  1.  1.  1.  1.  1.  1.  1.  1.  1.  1.]\n",
      " [ 2.  2.  2.  2.  2.  2.  2.  2.  2.  2.  2.]\n",
      " [ 3.  3.  3.  3.  3.  3.  3.  3.  3.  3.  3.]\n",
      " [ 4.  4.  4.  4.  4.  4.  4.  4.  4.  4.  4.]\n",
      " [ 5.  5.  5.  5.  5.  5.  5.  5.  5.  5.  5.]]\n"
     ]
    }
   ],
   "source": [
    "#print(X)\n",
    "print(X)"
   ]
  },
  {
   "cell_type": "code",
   "execution_count": 25,
   "id": "079a9dd5",
   "metadata": {},
   "outputs": [
    {
     "ename": "ValueError",
     "evalue": "The truth value of an array with more than one element is ambiguous. Use a.any() or a.all()",
     "output_type": "error",
     "traceback": [
      "\u001b[0;31m---------------------------------------------------------------------------\u001b[0m",
      "\u001b[0;31mValueError\u001b[0m                                Traceback (most recent call last)",
      "\u001b[0;32m<ipython-input-25-3c26e7d8e3cc>\u001b[0m in \u001b[0;36m<module>\u001b[0;34m\u001b[0m\n\u001b[1;32m      1\u001b[0m \u001b[0mx1\u001b[0m\u001b[0;34m=\u001b[0m\u001b[0mX\u001b[0m\u001b[0;34m[\u001b[0m\u001b[0;36m1\u001b[0m\u001b[0;34m]\u001b[0m\u001b[0;34m\u001b[0m\u001b[0;34m\u001b[0m\u001b[0m\n\u001b[1;32m      2\u001b[0m \u001b[0mx2\u001b[0m\u001b[0;34m=\u001b[0m\u001b[0mX\u001b[0m\u001b[0;34m[\u001b[0m\u001b[0;36m2\u001b[0m\u001b[0;34m]\u001b[0m\u001b[0;34m\u001b[0m\u001b[0;34m\u001b[0m\u001b[0m\n\u001b[0;32m----> 3\u001b[0;31m \u001b[0mmin\u001b[0m\u001b[0;34m(\u001b[0m\u001b[0mx1\u001b[0m\u001b[0;34m,\u001b[0m\u001b[0mx2\u001b[0m\u001b[0;34m)\u001b[0m\u001b[0;34m\u001b[0m\u001b[0;34m\u001b[0m\u001b[0m\n\u001b[0m",
      "\u001b[0;31mValueError\u001b[0m: The truth value of an array with more than one element is ambiguous. Use a.any() or a.all()"
     ]
    }
   ],
   "source": [
    "x1=X[1]\n",
    "x2=X[2]\n",
    "min(x1,x2)"
   ]
  },
  {
   "cell_type": "code",
   "execution_count": null,
   "id": "9fec4001",
   "metadata": {},
   "outputs": [],
   "source": [
    "[i,1]"
   ]
  }
 ],
 "metadata": {
  "kernelspec": {
   "display_name": "Python 3",
   "language": "python",
   "name": "python3"
  },
  "language_info": {
   "codemirror_mode": {
    "name": "ipython",
    "version": 3
   },
   "file_extension": ".py",
   "mimetype": "text/x-python",
   "name": "python",
   "nbconvert_exporter": "python",
   "pygments_lexer": "ipython3",
   "version": "3.8.8"
  }
 },
 "nbformat": 4,
 "nbformat_minor": 5
}
