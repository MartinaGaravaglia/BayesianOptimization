{
 "cells": [
  {
   "cell_type": "markdown",
   "id": "398f9dc8",
   "metadata": {},
   "source": [
    "# Test functions"
   ]
  },
  {
   "cell_type": "markdown",
   "id": "187d3970",
   "metadata": {},
   "source": [
    "1D, without noise"
   ]
  },
  {
   "cell_type": "code",
   "execution_count": null,
   "id": "be529550",
   "metadata": {},
   "outputs": [],
   "source": [
    "xx = np.linspace(-2, 10, 250).reshape(-1,1)\n",
    "\n",
    "def target(xx):\n",
    "    return np.exp(-(xx - 2)**2) + np.exp(-(xx - 6)**2/10) + 1/ (xx**2 + 1)\n",
    "\n",
    "params = {'ucb': {'kappa': 5, 'xi': 0}, 'ei': {'kappa': 5, 'xi': 0}, 'poi': {'kappa': 5,'xi': 0.01}, 'kg': {'kappa': 5, 'xi': 0}}\n",
    "optimizers = {}\n",
    "for acq in params.keys():\n",
    "    optimizers[acq] = BayesianOptimization(target, {'x': (min(xx), max(xx))}, random_state=27)"
   ]
  },
  {
   "cell_type": "code",
   "execution_count": null,
   "id": "cad056af",
   "metadata": {},
   "outputs": [],
   "source": [
    "def update_optimizers(n_iter, optimizers, init_points=2):\n",
    "    \n",
    "    if len(list(optimizers.values())[0]._space.target) == 0:\n",
    "        for acq in optimizers.keys():\n",
    "            optimizers[acq].maximize(init_points=init_points, n_iter=0, acq=acq)\n",
    "    else:\n",
    "        for acq in optimizers.keys():\n",
    "            optimizers[acq].maximize(init_points=0, n_iter=n_iter, acq=acq)\n",
    "    return optimizers   "
   ]
  },
  {
   "cell_type": "code",
   "execution_count": null,
   "id": "f485cd14",
   "metadata": {},
   "outputs": [],
   "source": [
    "optimizers = update_optimizers(0, optimizers, 5)\n",
    "#plot_gp(optimizers, xx, target, params, 5)"
   ]
  },
  {
   "cell_type": "code",
   "execution_count": null,
   "id": "70db760e",
   "metadata": {},
   "outputs": [],
   "source": [
    "optimizers = update_optimizers(3, optimizers)\n",
    "plot_gp(optimizers, xx, target, params, 5)"
   ]
  },
  {
   "cell_type": "code",
   "execution_count": null,
   "id": "6d9dd75a",
   "metadata": {},
   "outputs": [],
   "source": [
    "optimizers = update_optimizers(3, optimizers)\n",
    "plot_gp(optimizers, xx, target, params, 5)"
   ]
  },
  {
   "cell_type": "code",
   "execution_count": null,
   "id": "33fcb720",
   "metadata": {},
   "outputs": [],
   "source": [
    "optimizers = update_optimizers(3, optimizers)\n",
    "plot_gp(optimizers, xx, target, params, 5)"
   ]
  },
  {
   "cell_type": "code",
   "execution_count": null,
   "id": "30fe5342",
   "metadata": {},
   "outputs": [],
   "source": [
    "optimizers = update_optimizers(3, optimizers)\n",
    "plot_gp(optimizers, xx, target, params, 5)"
   ]
  },
  {
   "cell_type": "code",
   "execution_count": null,
   "id": "78e7eb5f",
   "metadata": {},
   "outputs": [],
   "source": []
  },
  {
   "cell_type": "code",
   "execution_count": null,
   "id": "1b481824",
   "metadata": {},
   "outputs": [],
   "source": []
  },
  {
   "cell_type": "markdown",
   "id": "6964187a",
   "metadata": {},
   "source": [
    "2D, without noise"
   ]
  },
  {
   "cell_type": "code",
   "execution_count": null,
   "id": "7ebea264",
   "metadata": {},
   "outputs": [],
   "source": [
    "def grid_construction(pbounds, n_grid):\n",
    "\n",
    "    dim = pbounds.shape[0]\n",
    "    init = [] #[np.zeros(n_grid)] * dim\n",
    "\n",
    "    for i in range(dim):\n",
    "        init.append(np.linspace(pbounds[i,0], pbounds[i,1], n_grid)) #= np.linspace(pbounds[i,0], pbounds[i,1], n_grid) # works \\forall p\n",
    "\n",
    "\n",
    "\n",
    "    grid = np.meshgrid(*init) # list with p matrices n_grid x n_grid\n",
    "    for g in range(len(grid)):\n",
    "        grid[g] = grid[g].reshape(-1,1)\n",
    "    grid = np.stack(grid, axis = -1)\n",
    "    grid=grid[:,0,:] # array of shape (n_grid*n_grid, p): each row is composed of one element from init[0] and one element from init[1]\n",
    "    return grid\n",
    "\n",
    "\n",
    "\n",
    "def black_box_function(x, y):\n",
    "    return -x ** 2 - (y - 1) ** 2 + 1\n",
    "\n",
    "\n",
    "optimizer1 = BayesianOptimization(\n",
    "    f_temp=black_box_function,\n",
    "    pbounds={'x': (-2, 2), 'y': (-3, 3)},\n",
    "    verbose=2,\n",
    "    random_state=1,\n",
    "    )\n",
    "optimizer2  = BayesianOptimization(\n",
    "    f_temp=black_box_function,\n",
    "    pbounds={'x': (-2, 2), 'y': (-3, 3)},\n",
    "    verbose=2,\n",
    "    random_state=1,\n",
    "    )\n",
    "optimizer3 = BayesianOptimization(\n",
    "    f_temp=black_box_function,\n",
    "    pbounds={'x': (-2, 2), 'y': (-3, 3)},\n",
    "    verbose=2,\n",
    "    random_state=1,\n",
    "    )\n",
    "\n",
    "grid = grid_construction(optimizer1._space.bounds, 100) # PAY ATTENTION: the density of the grid influences the result of the regret\n",
    "                                                        # Remember to take enough points\n",
    "\n",
    "optimizer1.maximize(init_points=2, n_iter=0, kappa=2.5)\n",
    "optimizer2.maximize(init_points=2, n_iter=0,acq='ei')\n",
    "optimizer3.maximize(init_points=2, n_iter=0,acq='poi')\n",
    "optimizers={'ucb': optimizer1, 'ei': optimizer2, 'poi': optimizer3}\n",
    "\n",
    "params = {'ucb': {'kappa': 2.5, 'xi': 0}, 'ei': {'kappa': 5, 'xi': 0}, 'poi': {'kappa': 5,'xi': 0.01}}\n",
    "plot_simple_regret(optimizers, grid, black_box_function, params, dim=2)"
   ]
  },
  {
   "cell_type": "code",
   "execution_count": null,
   "id": "252e2d85",
   "metadata": {},
   "outputs": [],
   "source": []
  },
  {
   "cell_type": "code",
   "execution_count": null,
   "id": "d9ee2256",
   "metadata": {},
   "outputs": [],
   "source": []
  }
 ],
 "metadata": {
  "kernelspec": {
   "display_name": "Python 3",
   "language": "python",
   "name": "python3"
  },
  "language_info": {
   "codemirror_mode": {
    "name": "ipython",
    "version": 3
   },
   "file_extension": ".py",
   "mimetype": "text/x-python",
   "name": "python",
   "nbconvert_exporter": "python",
   "pygments_lexer": "ipython3",
   "version": "3.8.8"
  }
 },
 "nbformat": 4,
 "nbformat_minor": 5
}
